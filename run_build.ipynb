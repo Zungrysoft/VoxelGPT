{
 "cells": [
  {
   "attachments": {},
   "cell_type": "markdown",
   "metadata": {},
   "source": [
    "This file is used to build all of the json data that gets loaded by `train.ipynb`"
   ]
  },
  {
   "cell_type": "code",
   "execution_count": 1,
   "metadata": {},
   "outputs": [],
   "source": [
    "# Create palette file from palette.png\n",
    "from util.convert_image_to_palette import convert \n",
    "\n",
    "convert(\"data/palette.png\", \"data/palette.json\")"
   ]
  },
  {
   "cell_type": "code",
   "execution_count": 2,
   "metadata": {},
   "outputs": [
    {
     "ename": "KeyboardInterrupt",
     "evalue": "",
     "output_type": "error",
     "traceback": [
      "\u001b[1;31m---------------------------------------------------------------------------\u001b[0m",
      "\u001b[1;31mKeyboardInterrupt\u001b[0m                         Traceback (most recent call last)",
      "\u001b[1;32md:\\dev\\VoxelGPT\\run_build.ipynb Cell 3\u001b[0m line \u001b[0;36m1\n\u001b[0;32m      <a href='vscode-notebook-cell:/d%3A/dev/VoxelGPT/run_build.ipynb#X16sZmlsZQ%3D%3D?line=7'>8</a>\u001b[0m \u001b[39mif\u001b[39;00m \u001b[39m\"\u001b[39m\u001b[39mvox\u001b[39m\u001b[39m\"\u001b[39m \u001b[39min\u001b[39;00m filename:\n\u001b[0;32m      <a href='vscode-notebook-cell:/d%3A/dev/VoxelGPT/run_build.ipynb#X16sZmlsZQ%3D%3D?line=8'>9</a>\u001b[0m     new_filename \u001b[39m=\u001b[39m filename\u001b[39m.\u001b[39mreplace(\u001b[39m\"\u001b[39m\u001b[39mvox\u001b[39m\u001b[39m\"\u001b[39m, \u001b[39m\"\u001b[39m\u001b[39mjson\u001b[39m\u001b[39m\"\u001b[39m)\n\u001b[1;32m---> <a href='vscode-notebook-cell:/d%3A/dev/VoxelGPT/run_build.ipynb#X16sZmlsZQ%3D%3D?line=9'>10</a>\u001b[0m     convert_vox_to_json(\u001b[39m\"\u001b[39;49m\u001b[39mtraining/vox/\u001b[39;49m\u001b[39m\"\u001b[39;49m \u001b[39m+\u001b[39;49m filename, \u001b[39m\"\u001b[39;49m\u001b[39mtraining/json/\u001b[39;49m\u001b[39m\"\u001b[39;49m \u001b[39m+\u001b[39;49m new_filename)\n",
      "File \u001b[1;32md:\\dev\\VoxelGPT\\util\\convert_vox_to_json.py:234\u001b[0m, in \u001b[0;36mconvert_vox_to_json\u001b[1;34m(input_filename, output_filename)\u001b[0m\n\u001b[0;32m    231\u001b[0m \u001b[39mfor\u001b[39;00m x, y, z, color_index \u001b[39min\u001b[39;00m voxels:\n\u001b[0;32m    232\u001b[0m     \u001b[39m# Convert vox palette index to rgb, then to an index in the network's palette\u001b[39;00m\n\u001b[0;32m    233\u001b[0m     my_palette_index \u001b[39m=\u001b[39m rgb_to_index(palette[color_index \u001b[39m-\u001b[39m \u001b[39m1\u001b[39m][:\u001b[39m3\u001b[39m])\n\u001b[1;32m--> 234\u001b[0m     data[\u001b[39m\"\u001b[39m\u001b[39mvoxels\u001b[39m\u001b[39m\"\u001b[39m][\u001b[39mf\u001b[39m\u001b[39m\"\u001b[39m\u001b[39m{\u001b[39;00mx\u001b[39m}\u001b[39;00m\u001b[39m,\u001b[39m\u001b[39m{\u001b[39;00my\u001b[39m}\u001b[39;00m\u001b[39m,\u001b[39m\u001b[39m{\u001b[39;00mz\u001b[39m}\u001b[39;00m\u001b[39m\"\u001b[39m] \u001b[39m=\u001b[39m my_palette_index\n\u001b[0;32m    236\u001b[0m \u001b[39mwith\u001b[39;00m \u001b[39mopen\u001b[39m(output_filename, \u001b[39m'\u001b[39m\u001b[39mw\u001b[39m\u001b[39m'\u001b[39m) \u001b[39mas\u001b[39;00m output_file:\n\u001b[0;32m    237\u001b[0m     json\u001b[39m.\u001b[39mdump(data, output_file, indent\u001b[39m=\u001b[39m\u001b[39m2\u001b[39m)\n",
      "\u001b[1;31mKeyboardInterrupt\u001b[0m: "
     ]
    }
   ],
   "source": [
    "# Convert all files in the training .vox folder to json files\n",
    "import os\n",
    "from util.convert_vox_to_json import convert_vox_to_json\n",
    "\n",
    "filenames = os.listdir('training/vox')\n",
    "\n",
    "for filename in filenames:\n",
    "    if \"vox\" in filename:\n",
    "        new_filename = filename.replace(\"vox\", \"json\")\n",
    "        convert_vox_to_json(\"training/vox/\" + filename, \"training/json/\" + new_filename)"
   ]
  },
  {
   "cell_type": "code",
   "execution_count": null,
   "metadata": {},
   "outputs": [],
   "source": [
    "# Convert training json files to vox files for viewing\n",
    "import os\n",
    "from util.convert_vox_to_json import convert_json_to_vox\n",
    "\n",
    "filenames = os.listdir('training/json')\n",
    "\n",
    "for filename in filenames:\n",
    "    if \"json\" in filename:\n",
    "        new_filename = filename.replace(\"json\", \"vox\")\n",
    "        convert_json_to_vox(\"training/json/\" + filename, \"training/view_vox/\" + new_filename)"
   ]
  },
  {
   "cell_type": "code",
   "execution_count": 4,
   "metadata": {},
   "outputs": [],
   "source": [
    "# Convert json files in examples to vox files for viewing\n",
    "import os\n",
    "from util.convert_vox_to_json import convert_json_to_vox\n",
    "\n",
    "filenames = os.listdir('examples/json')\n",
    "\n",
    "for filename in filenames:\n",
    "    if \"json\" in filename:\n",
    "        new_filename = filename.replace(\"json\", \"vox\")\n",
    "        convert_json_to_vox(\"examples/json/\" + filename, \"examples/view_vox/\" + new_filename)"
   ]
  },
  {
   "cell_type": "code",
   "execution_count": 3,
   "metadata": {},
   "outputs": [],
   "source": [
    "# Delete all example files\n",
    "import os\n",
    "\n",
    "json_dir = \"examples/json/\"\n",
    "json_files = os.listdir(json_dir)\n",
    "\n",
    "vox_dir = \"examples/view_vox/\"\n",
    "vox_files = os.listdir(vox_dir)\n",
    "\n",
    "for item in json_files:\n",
    "    if item.endswith(\".json\"):\n",
    "        os.remove(os.path.join(json_dir, item))\n",
    "\n",
    "for item in vox_files:\n",
    "    if item.endswith(\".vox\"):\n",
    "        os.remove(os.path.join(vox_dir, item))"
   ]
  },
  {
   "cell_type": "code",
   "execution_count": null,
   "metadata": {},
   "outputs": [],
   "source": [
    "import training\n",
    "import vector as vec\n",
    "import random\n",
    "import json\n",
    "import os\n",
    "\n",
    "# Delete existing sorpok files\n",
    "sorpok_dir = \"training/json/\"\n",
    "sorpok_files = os.listdir(sorpok_dir)\n",
    "\n",
    "for item in sorpok_files:\n",
    "    if \"sorpok\" in item:\n",
    "        os.remove(os.path.join(sorpok_dir, item))\n",
    "\n",
    "# Generate sorpok files\n",
    "sorpok_count = 50\n",
    "\n",
    "# Light Blue: 246\n",
    "# Blue: 231\n",
    "# Yellow: 252\n",
    "# Green: 47\n",
    "# White: 15\n",
    "# Red: 192\n",
    "\n",
    "# Set up parameters\n",
    "for i in range(sorpok_count):\n",
    "    size = 4\n",
    "    r = random.random()\n",
    "    if r < 0.5:\n",
    "        color1 = 246\n",
    "        color2 = 231\n",
    "    else:\n",
    "        color1 = 15\n",
    "        color2 = 192\n",
    "    offset = (int(random.random() * size), int(random.random() * size), int(random.random() * size))\n",
    "    data = {\n",
    "        \"size\": {\n",
    "            \"x\": training.SIZE[0],\n",
    "            \"y\": training.SIZE[1],\n",
    "            \"z\": training.SIZE[2],\n",
    "        },\n",
    "        \"voxels\": {},\n",
    "    }\n",
    "\n",
    "    for x in range(training.SIZE[0]):\n",
    "        for y in range(training.SIZE[1]):\n",
    "            for z in range(training.SIZE[2]):\n",
    "                # Apply offset\n",
    "                cur_pos = (x, y, z)\n",
    "                offset_pos = vec.add(cur_pos, offset)\n",
    "                offset_pos = (offset_pos[0] % size, offset_pos[1] % size, offset_pos[2] % size)\n",
    "\n",
    "                # Build lattice structure\n",
    "                if offset_pos[0] == 0 and offset_pos[1] == 0 and offset_pos[2] == 1:\n",
    "                    data[\"voxels\"][vec.ttos(cur_pos)] = color1\n",
    "                else:\n",
    "                    c = 0\n",
    "                    for pos in offset_pos:\n",
    "                        if pos == 0:\n",
    "                            c += 1\n",
    "                    if c >= 2:\n",
    "                        data[\"voxels\"][vec.ttos(cur_pos)] = color2\n",
    "\n",
    "    # Save JSON file\n",
    "    output_filename = f'training/json/sorpok{i}.json'\n",
    "    with open(output_filename, 'w') as output_file:\n",
    "        json.dump(data, output_file, indent=2)\n"
   ]
  }
 ],
 "metadata": {
  "kernelspec": {
   "display_name": "Python 3",
   "language": "python",
   "name": "python3"
  },
  "language_info": {
   "codemirror_mode": {
    "name": "ipython",
    "version": 3
   },
   "file_extension": ".py",
   "mimetype": "text/x-python",
   "name": "python",
   "nbconvert_exporter": "python",
   "pygments_lexer": "ipython3",
   "version": "3.10.8"
  },
  "orig_nbformat": 4
 },
 "nbformat": 4,
 "nbformat_minor": 2
}
