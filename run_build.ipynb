{
 "cells": [
  {
   "attachments": {},
   "cell_type": "markdown",
   "metadata": {},
   "source": [
    "This file is used to build all of the json data that gets loaded by `train.ipynb`"
   ]
  },
  {
   "cell_type": "code",
   "execution_count": null,
   "metadata": {},
   "outputs": [],
   "source": [
    "# Create palette file from palette.png\n",
    "from util.convert_image_to_palette import convert \n",
    "\n",
    "convert(\"data/palette.png\", \"data/palette.json\")"
   ]
  },
  {
   "cell_type": "code",
   "execution_count": null,
   "metadata": {},
   "outputs": [],
   "source": [
    "# Convert all files in the training .vox folder to json files\n",
    "import os\n",
    "from util.convert_vox_to_json import convert_vox_to_json\n",
    "\n",
    "filenames = os.listdir('training/vox')\n",
    "\n",
    "for filename in filenames:\n",
    "    if \"vox\" in filename:\n",
    "        new_filename = filename.replace(\"vox\", \"json\")\n",
    "        convert_vox_to_json(\"training/vox/\" + filename, \"training/json/\" + new_filename)"
   ]
  },
  {
   "cell_type": "code",
   "execution_count": 2,
   "metadata": {},
   "outputs": [],
   "source": [
    "# Convert training json files to vox files for viewing\n",
    "import os\n",
    "from util.convert_vox_to_json import convert_json_to_vox\n",
    "\n",
    "filenames = os.listdir('training/json')\n",
    "\n",
    "for filename in filenames:\n",
    "    if \"json\" in filename:\n",
    "        new_filename = filename.replace(\"json\", \"vox\")\n",
    "        convert_json_to_vox(\"training/json/\" + filename, \"training/view_vox/\" + new_filename)"
   ]
  },
  {
   "cell_type": "code",
   "execution_count": 14,
   "metadata": {},
   "outputs": [],
   "source": [
    "# Convert json files in examples to vox files for viewing\n",
    "import os\n",
    "from util.convert_vox_to_json import convert_json_to_vox\n",
    "\n",
    "filenames = os.listdir('examples/json')\n",
    "\n",
    "for filename in filenames:\n",
    "    if \"json\" in filename:\n",
    "        new_filename = filename.replace(\"json\", \"vox\")\n",
    "        convert_json_to_vox(\"examples/json/\" + filename, \"examples/view_vox/\" + new_filename)"
   ]
  },
  {
   "cell_type": "code",
   "execution_count": null,
   "metadata": {},
   "outputs": [],
   "source": [
    "# Delete all example files\n",
    "import os\n",
    "\n",
    "json_dir = \"examples/json/\"\n",
    "json_files = os.listdir(json_dir)\n",
    "\n",
    "vox_dir = \"examples/view_vox/\"\n",
    "vox_files = os.listdir(vox_dir)\n",
    "\n",
    "for item in json_files:\n",
    "    if item.endswith(\".json\"):\n",
    "        os.remove(os.path.join(json_dir, item))\n",
    "\n",
    "for item in vox_files:\n",
    "    if item.endswith(\".vox\"):\n",
    "        os.remove(os.path.join(vox_dir, item))"
   ]
  },
  {
   "cell_type": "code",
   "execution_count": 1,
   "metadata": {},
   "outputs": [],
   "source": [
    "import training\n",
    "import random\n",
    "import json\n",
    "import os\n",
    "\n",
    "# Delete existing sorpok files\n",
    "sorpok_dir = \"training/json/\"\n",
    "sorpok_files = os.listdir(sorpok_dir)\n",
    "\n",
    "for item in sorpok_files:\n",
    "    if \"sorpok\" in item:\n",
    "        os.remove(os.path.join(sorpok_dir, item))\n",
    "\n",
    "# Generate sorpok files\n",
    "sorpok_count = 50\n",
    "\n",
    "# Light Blue: 246\n",
    "# Blue: 231\n",
    "# Yellow: 252\n",
    "# Green: 47\n",
    "# White: 15\n",
    "# Red: 192\n",
    "\n",
    "# Set up parameters\n",
    "for i in range(sorpok_count):\n",
    "    size = 4\n",
    "    r = random.random()\n",
    "    if r < 0.5:\n",
    "        color1 = 246\n",
    "        color2 = 231\n",
    "    else:\n",
    "        color1 = 15\n",
    "        color2 = 192\n",
    "    offset = (int(random.random() * size), int(random.random() * size), int(random.random() * size))\n",
    "    data = {\n",
    "        \"size\": {\n",
    "            \"x\": training.SIZE[0],\n",
    "            \"y\": training.SIZE[1],\n",
    "            \"z\": training.SIZE[2],\n",
    "        },\n",
    "        \"voxels\": {},\n",
    "    }\n",
    "\n",
    "    for x in range(training.SIZE[0]):\n",
    "        for y in range(training.SIZE[1]):\n",
    "            for z in range(training.SIZE[2]):\n",
    "                # Apply offset\n",
    "                cur_pos = (x, y, z)\n",
    "                offset_pos = training.add(cur_pos, offset)\n",
    "                offset_pos = (offset_pos[0] % size, offset_pos[1] % size, offset_pos[2] % size)\n",
    "\n",
    "                # Build lattice structure\n",
    "                if offset_pos[0] == 0 and offset_pos[1] == 0 and offset_pos[2] == 1:\n",
    "                    data[\"voxels\"][training.ttos(cur_pos)] = color1\n",
    "                else:\n",
    "                    c = 0\n",
    "                    for pos in offset_pos:\n",
    "                        if pos == 0:\n",
    "                            c += 1\n",
    "                    if c >= 2:\n",
    "                        data[\"voxels\"][training.ttos(cur_pos)] = color2\n",
    "\n",
    "    # Save JSON file\n",
    "    output_filename = f'training/json/sorpok{i}.json'\n",
    "    with open(output_filename, 'w') as output_file:\n",
    "        json.dump(data, output_file, indent=2)\n"
   ]
  }
 ],
 "metadata": {
  "kernelspec": {
   "display_name": "Python 3",
   "language": "python",
   "name": "python3"
  },
  "language_info": {
   "codemirror_mode": {
    "name": "ipython",
    "version": 3
   },
   "file_extension": ".py",
   "mimetype": "text/x-python",
   "name": "python",
   "nbconvert_exporter": "python",
   "pygments_lexer": "ipython3",
   "version": "3.10.8"
  },
  "orig_nbformat": 4
 },
 "nbformat": 4,
 "nbformat_minor": 2
}
