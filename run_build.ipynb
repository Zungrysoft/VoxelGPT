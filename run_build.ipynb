{
 "cells": [
  {
   "attachments": {},
   "cell_type": "markdown",
   "metadata": {},
   "source": [
    "This file is used to build all of the json data that gets loaded by `train.ipynb`"
   ]
  },
  {
   "cell_type": "code",
   "execution_count": 20,
   "metadata": {},
   "outputs": [],
   "source": [
    "# Create palette file from palette.png\n",
    "from util.convert_image_to_palette import convert \n",
    "\n",
    "convert(\"data/palette.png\", \"data/palette.json\")"
   ]
  },
  {
   "cell_type": "code",
   "execution_count": 1,
   "metadata": {},
   "outputs": [],
   "source": [
    "# Convert all files in the .vox folder to json files\n",
    "import os\n",
    "from util.convert_vox_to_json import convert_vox_to_json\n",
    "\n",
    "filenames = os.listdir('training/vox')\n",
    "\n",
    "for filename in filenames:\n",
    "    new_filename = filename.replace(\"vox\", \"json\")\n",
    "    convert_vox_to_json(\"training/vox/\" + filename, \"training/json/\" + new_filename)"
   ]
  },
  {
   "cell_type": "code",
   "execution_count": 2,
   "metadata": {},
   "outputs": [],
   "source": [
    "# Convert json files to vox files for viewing\n",
    "import os\n",
    "from util.convert_vox_to_json import convert_json_to_vox\n",
    "\n",
    "filenames = os.listdir('training/json')\n",
    "\n",
    "for filename in filenames:\n",
    "    new_filename = filename.replace(\"json\", \"vox\")\n",
    "    convert_json_to_vox(\"training/json/\" + filename, \"training/view_vox/\" + new_filename)"
   ]
  },
  {
   "cell_type": "code",
   "execution_count": null,
   "metadata": {},
   "outputs": [],
   "source": [
    "# Convert json files in examples to vox files for viewing\n",
    "import os\n",
    "from util.convert_vox_to_json import convert_json_to_vox\n",
    "\n",
    "filenames = os.listdir('training/json')\n",
    "\n",
    "for filename in filenames:\n",
    "    new_filename = filename.replace(\"json\", \"vox\")\n",
    "    convert_json_to_vox(\"examples/json/\" + filename, \"examples/view_vox/\" + new_filename)"
   ]
  }
 ],
 "metadata": {
  "kernelspec": {
   "display_name": "Python 3",
   "language": "python",
   "name": "python3"
  },
  "language_info": {
   "codemirror_mode": {
    "name": "ipython",
    "version": 3
   },
   "file_extension": ".py",
   "mimetype": "text/x-python",
   "name": "python",
   "nbconvert_exporter": "python",
   "pygments_lexer": "ipython3",
   "version": "3.10.8"
  },
  "orig_nbformat": 4
 },
 "nbformat": 4,
 "nbformat_minor": 2
}
