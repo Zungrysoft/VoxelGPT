{
 "cells": [
  {
   "cell_type": "code",
   "execution_count": 3,
   "metadata": {},
   "outputs": [],
   "source": [
    "# Imports\n",
    "import tensorflow as tf\n",
    "import tensorflow.keras as keras\n",
    "import numpy as np\n",
    "import matplotlib.pyplot as plt\n",
    "import random\n",
    "import time\n",
    "import json\n",
    "import training"
   ]
  },
  {
   "cell_type": "code",
   "execution_count": 4,
   "metadata": {},
   "outputs": [],
   "source": [
    "# Constants\n",
    "\n",
    "# Network Structure\n",
    "CONTEXT_SIZE = 8        # How many other voxels are considered for a training example\n",
    "EMBEDDING_SIZE = 64     # Dimensionality of the voxel embedding vector\n",
    "STACKED_LAYERS = 2      # How many times the network structure repeats itself\n",
    "ATTENTION_HEADS = 2     # Number of heads in each multi-headed attention mechanism\n",
    "\n",
    "# Training Hyperparameters\n",
    "CHECK_RADIUS = 7        # How far away voxels can be to be part of a training example\n",
    "CENTER_FOCUS = 0.3      # How much to focus on picking voxels close to the center of the cube. Must be between 0 and 1.\n",
    "LEARNING_RATE = 1e-4\n",
    "TRAINING_EXAMPLES = 100"
   ]
  },
  {
   "cell_type": "code",
   "execution_count": 6,
   "metadata": {},
   "outputs": [
    {
     "name": "stdout",
     "output_type": "stream",
     "text": [
      "Palette has 256 colors\n"
     ]
    }
   ],
   "source": [
    "# Load voxel palette\n",
    "# The output is a 255-dimensional vector of probabilities for different colors\n",
    "# Which 255 colors can be generated is decided by the palette file\n",
    "\n",
    "# Index 0 is reserved as 'undecided' voxel\n",
    "# Index 1 is reserved as 'air' voxel\n",
    "# Index 2-255 are colors. So there are 254 possible colors.\n",
    "with open('data/palette.json', 'r') as json_file:\n",
    "    palette = json.load(json_file)['colors']\n",
    "    palette_size = len(palette)\n",
    "\n",
    "print(f\"Palette has {palette_size} colors\")\n"
   ]
  },
  {
   "cell_type": "code",
   "execution_count": 7,
   "metadata": {},
   "outputs": [
    {
     "name": "stdout",
     "output_type": "stream",
     "text": [
      "Model: \"model\"\n",
      "__________________________________________________________________________________________________\n",
      " Layer (type)                   Output Shape         Param #     Connected to                     \n",
      "==================================================================================================\n",
      " input_layer (InputLayer)       [(None, 8, 64)]      0           []                               \n",
      "                                                                                                  \n",
      " normalization_0a (LayerNormali  (None, 8, 64)       128         ['input_layer[0][0]']            \n",
      " zation)                                                                                          \n",
      "                                                                                                  \n",
      " residual_connection_0a (Add)   (None, 8, 64)        0           ['input_layer[0][0]',            \n",
      "                                                                  'normalization_0a[0][0]']       \n",
      "                                                                                                  \n",
      " feedforward_0 (Dense)          (None, 8, 64)        4160        ['residual_connection_0a[0][0]'] \n",
      "                                                                                                  \n",
      " relu_0 (LeakyReLU)             (None, 8, 64)        0           ['feedforward_0[0][0]']          \n",
      "                                                                                                  \n",
      " normalization_0b (LayerNormali  (None, 8, 64)       128         ['relu_0[0][0]']                 \n",
      " zation)                                                                                          \n",
      "                                                                                                  \n",
      " residual_connection_0b (Add)   (None, 8, 64)        0           ['residual_connection_0a[0][0]', \n",
      "                                                                  'normalization_0b[0][0]']       \n",
      "                                                                                                  \n",
      " normalization_1a (LayerNormali  (None, 8, 64)       128         ['residual_connection_0b[0][0]'] \n",
      " zation)                                                                                          \n",
      "                                                                                                  \n",
      " residual_connection_1a (Add)   (None, 8, 64)        0           ['residual_connection_0b[0][0]', \n",
      "                                                                  'normalization_1a[0][0]']       \n",
      "                                                                                                  \n",
      " feedforward_1 (Dense)          (None, 8, 64)        4160        ['residual_connection_1a[0][0]'] \n",
      "                                                                                                  \n",
      " relu_1 (LeakyReLU)             (None, 8, 64)        0           ['feedforward_1[0][0]']          \n",
      "                                                                                                  \n",
      " normalization_1b (LayerNormali  (None, 8, 64)       128         ['relu_1[0][0]']                 \n",
      " zation)                                                                                          \n",
      "                                                                                                  \n",
      " residual_connection_1b (Add)   (None, 8, 64)        0           ['residual_connection_1a[0][0]', \n",
      "                                                                  'normalization_1b[0][0]']       \n",
      "                                                                                                  \n",
      " feedforward_final (Dense)      (None, 8, 255)       16575       ['residual_connection_1b[0][0]'] \n",
      "                                                                                                  \n",
      " softmax (Softmax)              (None, 8, 255)       0           ['feedforward_final[0][0]']      \n",
      "                                                                                                  \n",
      "==================================================================================================\n",
      "Total params: 25,407\n",
      "Trainable params: 25,407\n",
      "Non-trainable params: 0\n",
      "__________________________________________________________________________________________________\n"
     ]
    }
   ],
   "source": [
    "# Create model\n",
    "def main_model():\n",
    "    input = keras.Input(shape=(CONTEXT_SIZE, EMBEDDING_SIZE,), name='input_layer')\n",
    "\n",
    "    x = input\n",
    "\n",
    "    # Stacked layers\n",
    "    for i in range(STACKED_LAYERS):\n",
    "        # Multi-headed attention\n",
    "        fx = keras.layers.MultiHeadAttention(\n",
    "            num_heads=ATTENTION_HEADS,\n",
    "            key_dim=EMBEDDING_SIZE,\n",
    "            name=f'multi_head_attention_{i}',\n",
    "        )(x, x)\n",
    "\n",
    "        # Normalization\n",
    "        fx = keras.layers.LayerNormalization(name=f'normalization_{i}a')(x)\n",
    "\n",
    "        # Residual connection\n",
    "        x = keras.layers.Add(name=f'residual_connection_{i}a')([x,fx])\n",
    "\n",
    "        # Feedforward\n",
    "        fx = keras.layers.Dense(EMBEDDING_SIZE, name=f'feedforward_{i}')(x)\n",
    "        fx = keras.layers.LeakyReLU(name=f'relu_{i}')(fx)\n",
    "\n",
    "        # Normalization\n",
    "        fx = keras.layers.LayerNormalization(name=f'normalization_{i}b')(fx)\n",
    "\n",
    "        # Residual connection\n",
    "        x = keras.layers.Add(name=f'residual_connection_{i}b')([x,fx])\n",
    "    \n",
    "    # Final feedforward layer\n",
    "    # Output size should be palette_size-1, since we don't want it to be able to choose \"undecided\"\n",
    "    x = keras.layers.Dense(palette_size-1, name='feedforward_final')(x)\n",
    "\n",
    "    # Softmax\n",
    "    x = keras.layers.Softmax(name='softmax')(x)\n",
    "    \n",
    "    # Build and return model\n",
    "    return keras.Model(inputs=input, outputs=x)\n",
    "\n",
    "model = main_model()\n",
    "model.compile(optimizer='adam', loss='binary_crossentropy', metrics=['accuracy'])\n",
    "model.summary()\n"
   ]
  },
  {
   "cell_type": "code",
   "execution_count": 8,
   "metadata": {},
   "outputs": [],
   "source": [
    "# Set up loss and optimizer\n",
    "loss_function = tf.keras.losses.CategoricalCrossentropy()\n",
    "optimizer = tf.keras.optimizers.Adam(LEARNING_RATE)"
   ]
  },
  {
   "cell_type": "code",
   "execution_count": 10,
   "metadata": {},
   "outputs": [
    {
     "name": "stdout",
     "output_type": "stream",
     "text": [
      "100 training examples loaded.\n"
     ]
    }
   ],
   "source": [
    "# Design training examples\n",
    "training_examples = training.generate_training_examples(TRAINING_EXAMPLES, CONTEXT_SIZE)\n",
    "\n",
    "print(f\"{len(training_examples)} training examples created.\")"
   ]
  }
 ],
 "metadata": {
  "kernelspec": {
   "display_name": "Python 3",
   "language": "python",
   "name": "python3"
  },
  "language_info": {
   "codemirror_mode": {
    "name": "ipython",
    "version": 3
   },
   "file_extension": ".py",
   "mimetype": "text/x-python",
   "name": "python",
   "nbconvert_exporter": "python",
   "pygments_lexer": "ipython3",
   "version": "3.10.8"
  },
  "orig_nbformat": 4
 },
 "nbformat": 4,
 "nbformat_minor": 2
}
